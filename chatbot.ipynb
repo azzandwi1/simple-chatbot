{
 "cells": [
  {
   "cell_type": "code",
   "execution_count": 1,
   "metadata": {},
   "outputs": [
    {
     "name": "stderr",
     "output_type": "stream",
     "text": [
      "c:\\Users\\azzan\\AppData\\Local\\Programs\\Python\\Python311\\Lib\\site-packages\\fuzzywuzzy\\fuzz.py:11: UserWarning: Using slow pure-python SequenceMatcher. Install python-Levenshtein to remove this warning\n",
      "  warnings.warn('Using slow pure-python SequenceMatcher. Install python-Levenshtein to remove this warning')\n"
     ]
    },
    {
     "data": {
      "text/plain": [
       "<flask_cors.extension.CORS at 0x1e6368d7d10>"
      ]
     },
     "execution_count": 1,
     "metadata": {},
     "output_type": "execute_result"
    }
   ],
   "source": [
    "from flask import Flask, request\n",
    "from nltk.tokenize import word_tokenize\n",
    "from fuzzywuzzy import fuzz\n",
    "from flask_cors import CORS  # Import the CORS module\n",
    "\n",
    "app = Flask(__name__)\n",
    "CORS(app)  # Enable CORS for all routes"
   ]
  },
  {
   "cell_type": "code",
   "execution_count": 2,
   "metadata": {},
   "outputs": [],
   "source": [
    "# Library jawaban pertanyaan\n",
    "library_pertanyaan = {\n",
    "    \"Skripsi\": \"Jadwal TA\",\n",
    "    \"Tugas Akhir\": \"Jadwal TA\",\n",
    "    \"TA\": \"Jadwal TA\",\n",
    "    \"Kerja Praktek\": \"Jadwal KP\",\n",
    "    \"KP\": \"Jadwal KP\",\n",
    "    \"Magang\": \"Jadwal KP\",\n",
    "}"
   ]
  },
  {
   "cell_type": "code",
   "execution_count": 3,
   "metadata": {},
   "outputs": [],
   "source": [
    "# Fungsi untuk mencari jawaban berdasarkan pertanyaan\n",
    "def cari_jawaban(pertanyaan):\n",
    "    kata_dalam_pertanyaan = word_tokenize(pertanyaan)\n",
    "    for kata_kunci, jawaban in library_pertanyaan.items():\n",
    "        for kata in kata_dalam_pertanyaan:\n",
    "            skor_rasio = fuzz.ratio(kata.lower(), kata_kunci.lower())\n",
    "            print(f\"Kata: {kata}, Kata kunci: {kata_kunci}, skor: {skor_rasio}\")\n",
    "            if skor_rasio >= 60:\n",
    "                return jawaban\n",
    "    return \"Pertanyaan tidak dapat diidentifikasi\""
   ]
  },
  {
   "cell_type": "code",
   "execution_count": 4,
   "metadata": {},
   "outputs": [],
   "source": [
    "# Routing untuk menerima input kalimat tanya melalui metode POST\n",
    "@app.route(\"/jawab_pertanyaan\", methods=['POST'])\n",
    "def jawab_pertanyaan():\n",
    "    # Dapatkan kalimat tanya dari body permintaan\n",
    "    pertanyaan = request.form.get('pertanyaan')\n",
    "\n",
    "    # Cari jawaban berdasarkan pertanyaan\n",
    "    jawaban = cari_jawaban(pertanyaan)\n",
    "\n",
    "    # Kirim respons\n",
    "    return jawaban"
   ]
  },
  {
   "cell_type": "code",
   "execution_count": 5,
   "metadata": {},
   "outputs": [
    {
     "name": "stdout",
     "output_type": "stream",
     "text": [
      " * Serving Flask app '__main__'\n",
      " * Debug mode: off\n"
     ]
    },
    {
     "name": "stderr",
     "output_type": "stream",
     "text": [
      "WARNING: This is a development server. Do not use it in a production deployment. Use a production WSGI server instead.\n",
      " * Running on http://127.0.0.1:5000\n",
      "Press CTRL+C to quit\n"
     ]
    },
    {
     "name": "stderr",
     "output_type": "stream",
     "text": [
      "127.0.0.1 - - [26/Dec/2023 20:43:13] \"POST /jawab_pertanyaan HTTP/1.1\" 200 -\n"
     ]
    },
    {
     "name": "stdout",
     "output_type": "stream",
     "text": [
      "Kata: kapan, Kata kunci: Skripsi, skor: 33\n",
      "Kata: KP, Kata kunci: Skripsi, skor: 44\n",
      "Kata: ?, Kata kunci: Skripsi, skor: 0\n",
      "Kata: kapan, Kata kunci: Tugas Akhir, skor: 12\n",
      "Kata: KP, Kata kunci: Tugas Akhir, skor: 15\n",
      "Kata: ?, Kata kunci: Tugas Akhir, skor: 0\n",
      "Kata: kapan, Kata kunci: TA, skor: 29\n",
      "Kata: KP, Kata kunci: TA, skor: 0\n",
      "Kata: ?, Kata kunci: TA, skor: 0\n",
      "Kata: kapan, Kata kunci: Kerja Praktek, skor: 44\n",
      "Kata: KP, Kata kunci: Kerja Praktek, skor: 27\n",
      "Kata: ?, Kata kunci: Kerja Praktek, skor: 0\n",
      "Kata: kapan, Kata kunci: KP, skor: 57\n",
      "Kata: KP, Kata kunci: KP, skor: 100\n"
     ]
    },
    {
     "name": "stderr",
     "output_type": "stream",
     "text": [
      "127.0.0.1 - - [26/Dec/2023 20:44:46] \"POST /jawab_pertanyaan HTTP/1.1\" 200 -\n",
      "127.0.0.1 - - [26/Dec/2023 20:44:48] \"POST /jawab_pertanyaan HTTP/1.1\" 200 -\n",
      "127.0.0.1 - - [26/Dec/2023 20:44:49] \"POST /jawab_pertanyaan HTTP/1.1\" 200 -\n",
      "127.0.0.1 - - [26/Dec/2023 20:44:51] \"POST /jawab_pertanyaan HTTP/1.1\" 200 -\n",
      "127.0.0.1 - - [26/Dec/2023 20:44:52] \"POST /jawab_pertanyaan HTTP/1.1\" 200 -\n",
      "127.0.0.1 - - [26/Dec/2023 20:44:53] \"POST /jawab_pertanyaan HTTP/1.1\" 200 -\n",
      "127.0.0.1 - - [26/Dec/2023 20:44:53] \"POST /jawab_pertanyaan HTTP/1.1\" 200 -\n",
      "127.0.0.1 - - [26/Dec/2023 20:44:53] \"POST /jawab_pertanyaan HTTP/1.1\" 200 -\n",
      "127.0.0.1 - - [26/Dec/2023 20:46:02] \"POST /jawab_pertanyaan HTTP/1.1\" 200 -\n",
      "127.0.0.1 - - [26/Dec/2023 20:46:21] \"POST /jawab_pertanyaan HTTP/1.1\" 200 -\n",
      "127.0.0.1 - - [26/Dec/2023 20:46:21] \"POST /jawab_pertanyaan HTTP/1.1\" 200 -\n",
      "127.0.0.1 - - [26/Dec/2023 20:46:22] \"POST /jawab_pertanyaan HTTP/1.1\" 200 -\n",
      "127.0.0.1 - - [26/Dec/2023 20:46:22] \"POST /jawab_pertanyaan HTTP/1.1\" 200 -\n",
      "127.0.0.1 - - [26/Dec/2023 20:46:22] \"POST /jawab_pertanyaan HTTP/1.1\" 200 -\n",
      "127.0.0.1 - - [26/Dec/2023 20:46:22] \"POST /jawab_pertanyaan HTTP/1.1\" 200 -\n",
      "127.0.0.1 - - [26/Dec/2023 20:46:23] \"POST /jawab_pertanyaan HTTP/1.1\" 200 -\n",
      "127.0.0.1 - - [26/Dec/2023 20:46:23] \"POST /jawab_pertanyaan HTTP/1.1\" 200 -\n",
      "127.0.0.1 - - [26/Dec/2023 20:47:16] \"POST /jawab_pertanyaan HTTP/1.1\" 200 -\n",
      "127.0.0.1 - - [26/Dec/2023 20:47:16] \"POST /jawab_pertanyaan HTTP/1.1\" 200 -\n"
     ]
    },
    {
     "name": "stdout",
     "output_type": "stream",
     "text": [
      "Kata: kapan, Kata kunci: Skripsi, skor: 33\n",
      "Kata: KP, Kata kunci: Skripsi, skor: 44\n",
      "Kata: ?, Kata kunci: Skripsi, skor: 0\n",
      "Kata: kapan, Kata kunci: Tugas Akhir, skor: 12\n",
      "Kata: KP, Kata kunci: Tugas Akhir, skor: 15\n",
      "Kata: ?, Kata kunci: Tugas Akhir, skor: 0\n",
      "Kata: kapan, Kata kunci: TA, skor: 29\n",
      "Kata: KP, Kata kunci: TA, skor: 0\n",
      "Kata: ?, Kata kunci: TA, skor: 0\n",
      "Kata: kapan, Kata kunci: Kerja Praktek, skor: 44\n",
      "Kata: KP, Kata kunci: Kerja Praktek, skor: 27\n",
      "Kata: ?, Kata kunci: Kerja Praktek, skor: 0\n",
      "Kata: kapan, Kata kunci: KP, skor: 57\n",
      "Kata: KP, Kata kunci: KP, skor: 100\n"
     ]
    },
    {
     "name": "stderr",
     "output_type": "stream",
     "text": [
      "127.0.0.1 - - [26/Dec/2023 20:47:16] \"POST /jawab_pertanyaan HTTP/1.1\" 200 -\n",
      "127.0.0.1 - - [26/Dec/2023 20:47:16] \"POST /jawab_pertanyaan HTTP/1.1\" 200 -\n",
      "127.0.0.1 - - [26/Dec/2023 20:52:47] \"POST /jawab_pertanyaan HTTP/1.1\" 200 -\n"
     ]
    },
    {
     "name": "stdout",
     "output_type": "stream",
     "text": [
      "Kata: kapan, Kata kunci: Skripsi, skor: 33\n",
      "Kata: KP, Kata kunci: Skripsi, skor: 44\n",
      "Kata: ?, Kata kunci: Skripsi, skor: 0\n",
      "Kata: kapan, Kata kunci: Tugas Akhir, skor: 12\n",
      "Kata: KP, Kata kunci: Tugas Akhir, skor: 15\n",
      "Kata: ?, Kata kunci: Tugas Akhir, skor: 0\n",
      "Kata: kapan, Kata kunci: TA, skor: 29\n",
      "Kata: KP, Kata kunci: TA, skor: 0\n",
      "Kata: ?, Kata kunci: TA, skor: 0\n",
      "Kata: kapan, Kata kunci: Kerja Praktek, skor: 44\n",
      "Kata: KP, Kata kunci: Kerja Praktek, skor: 27\n",
      "Kata: ?, Kata kunci: Kerja Praktek, skor: 0\n",
      "Kata: kapan, Kata kunci: KP, skor: 57\n",
      "Kata: KP, Kata kunci: KP, skor: 100\n"
     ]
    },
    {
     "name": "stderr",
     "output_type": "stream",
     "text": [
      "127.0.0.1 - - [26/Dec/2023 20:53:58] \"POST /jawab_pertanyaan HTTP/1.1\" 200 -\n",
      "127.0.0.1 - - [26/Dec/2023 20:54:13] \"POST /jawab_pertanyaan HTTP/1.1\" 200 -\n",
      "127.0.0.1 - - [26/Dec/2023 20:54:14] \"POST /jawab_pertanyaan HTTP/1.1\" 200 -\n",
      "127.0.0.1 - - [26/Dec/2023 20:54:14] \"POST /jawab_pertanyaan HTTP/1.1\" 200 -\n",
      "127.0.0.1 - - [26/Dec/2023 20:54:14] \"POST /jawab_pertanyaan HTTP/1.1\" 200 -\n",
      "127.0.0.1 - - [26/Dec/2023 20:54:14] \"POST /jawab_pertanyaan HTTP/1.1\" 200 -\n",
      "127.0.0.1 - - [26/Dec/2023 20:54:14] \"POST /jawab_pertanyaan HTTP/1.1\" 200 -\n",
      "127.0.0.1 - - [26/Dec/2023 20:55:40] \"POST /jawab_pertanyaan HTTP/1.1\" 200 -\n",
      "127.0.0.1 - - [26/Dec/2023 20:55:41] \"POST /jawab_pertanyaan HTTP/1.1\" 200 -\n",
      "127.0.0.1 - - [26/Dec/2023 20:55:41] \"POST /jawab_pertanyaan HTTP/1.1\" 200 -\n",
      "127.0.0.1 - - [26/Dec/2023 20:55:41] \"POST /jawab_pertanyaan HTTP/1.1\" 200 -\n",
      "127.0.0.1 - - [26/Dec/2023 20:55:41] \"POST /jawab_pertanyaan HTTP/1.1\" 200 -\n",
      "127.0.0.1 - - [26/Dec/2023 20:55:41] \"POST /jawab_pertanyaan HTTP/1.1\" 200 -\n",
      "127.0.0.1 - - [26/Dec/2023 20:55:42] \"POST /jawab_pertanyaan HTTP/1.1\" 200 -\n",
      "127.0.0.1 - - [26/Dec/2023 20:55:42] \"POST /jawab_pertanyaan HTTP/1.1\" 200 -\n",
      "127.0.0.1 - - [26/Dec/2023 20:55:42] \"POST /jawab_pertanyaan HTTP/1.1\" 200 -\n",
      "127.0.0.1 - - [26/Dec/2023 20:56:34] \"POST /jawab_pertanyaan HTTP/1.1\" 200 -\n",
      "127.0.0.1 - - [26/Dec/2023 20:56:35] \"POST /jawab_pertanyaan HTTP/1.1\" 200 -\n",
      "127.0.0.1 - - [26/Dec/2023 20:56:35] \"POST /jawab_pertanyaan HTTP/1.1\" 200 -\n",
      "127.0.0.1 - - [26/Dec/2023 20:56:35] \"POST /jawab_pertanyaan HTTP/1.1\" 200 -\n",
      "127.0.0.1 - - [26/Dec/2023 20:56:35] \"POST /jawab_pertanyaan HTTP/1.1\" 200 -\n",
      "127.0.0.1 - - [26/Dec/2023 20:56:36] \"POST /jawab_pertanyaan HTTP/1.1\" 200 -\n",
      "127.0.0.1 - - [26/Dec/2023 20:56:36] \"POST /jawab_pertanyaan HTTP/1.1\" 200 -\n",
      "127.0.0.1 - - [26/Dec/2023 20:56:36] \"POST /jawab_pertanyaan HTTP/1.1\" 200 -\n",
      "127.0.0.1 - - [26/Dec/2023 20:56:37] \"POST /jawab_pertanyaan HTTP/1.1\" 200 -\n",
      "127.0.0.1 - - [26/Dec/2023 20:56:37] \"POST /jawab_pertanyaan HTTP/1.1\" 200 -\n",
      "127.0.0.1 - - [26/Dec/2023 20:56:37] \"POST /jawab_pertanyaan HTTP/1.1\" 200 -\n",
      "127.0.0.1 - - [26/Dec/2023 20:56:37] \"POST /jawab_pertanyaan HTTP/1.1\" 200 -\n",
      "127.0.0.1 - - [26/Dec/2023 20:58:07] \"POST /jawab_pertanyaan HTTP/1.1\" 200 -\n",
      "127.0.0.1 - - [26/Dec/2023 20:58:07] \"POST /jawab_pertanyaan HTTP/1.1\" 200 -\n",
      "127.0.0.1 - - [26/Dec/2023 20:58:08] \"POST /jawab_pertanyaan HTTP/1.1\" 200 -\n",
      "127.0.0.1 - - [26/Dec/2023 20:58:08] \"POST /jawab_pertanyaan HTTP/1.1\" 200 -\n",
      "127.0.0.1 - - [26/Dec/2023 20:58:08] \"POST /jawab_pertanyaan HTTP/1.1\" 200 -\n",
      "127.0.0.1 - - [26/Dec/2023 20:58:08] \"POST /jawab_pertanyaan HTTP/1.1\" 200 -\n",
      "127.0.0.1 - - [26/Dec/2023 20:58:08] \"POST /jawab_pertanyaan HTTP/1.1\" 200 -\n",
      "127.0.0.1 - - [26/Dec/2023 20:58:09] \"POST /jawab_pertanyaan HTTP/1.1\" 200 -\n",
      "127.0.0.1 - - [26/Dec/2023 20:58:09] \"POST /jawab_pertanyaan HTTP/1.1\" 200 -\n",
      "127.0.0.1 - - [26/Dec/2023 20:58:09] \"POST /jawab_pertanyaan HTTP/1.1\" 200 -\n",
      "127.0.0.1 - - [26/Dec/2023 20:58:09] \"POST /jawab_pertanyaan HTTP/1.1\" 200 -\n",
      "127.0.0.1 - - [26/Dec/2023 20:58:10] \"POST /jawab_pertanyaan HTTP/1.1\" 200 -\n",
      "127.0.0.1 - - [26/Dec/2023 20:58:10] \"POST /jawab_pertanyaan HTTP/1.1\" 200 -\n",
      "127.0.0.1 - - [26/Dec/2023 20:58:10] \"POST /jawab_pertanyaan HTTP/1.1\" 200 -\n",
      "127.0.0.1 - - [26/Dec/2023 20:58:10] \"POST /jawab_pertanyaan HTTP/1.1\" 200 -\n",
      "127.0.0.1 - - [26/Dec/2023 21:09:23] \"POST /jawab_pertanyaan HTTP/1.1\" 200 -\n",
      "127.0.0.1 - - [26/Dec/2023 21:09:23] \"POST /jawab_pertanyaan HTTP/1.1\" 200 -\n",
      "127.0.0.1 - - [26/Dec/2023 21:09:24] \"POST /jawab_pertanyaan HTTP/1.1\" 200 -\n",
      "127.0.0.1 - - [26/Dec/2023 21:09:24] \"POST /jawab_pertanyaan HTTP/1.1\" 200 -\n",
      "127.0.0.1 - - [26/Dec/2023 21:09:24] \"POST /jawab_pertanyaan HTTP/1.1\" 200 -\n",
      "127.0.0.1 - - [26/Dec/2023 21:09:25] \"POST /jawab_pertanyaan HTTP/1.1\" 200 -\n",
      "127.0.0.1 - - [26/Dec/2023 21:21:21] \"POST /jawab_pertanyaan HTTP/1.1\" 200 -\n",
      "127.0.0.1 - - [26/Dec/2023 21:21:25] \"POST /jawab_pertanyaan HTTP/1.1\" 200 -\n"
     ]
    },
    {
     "name": "stdout",
     "output_type": "stream",
     "text": [
      "Kata: kapan, Kata kunci: Skripsi, skor: 33\n",
      "Kata: KP, Kata kunci: Skripsi, skor: 44\n",
      "Kata: ?, Kata kunci: Skripsi, skor: 0\n",
      "Kata: kapan, Kata kunci: Tugas Akhir, skor: 12\n",
      "Kata: KP, Kata kunci: Tugas Akhir, skor: 15\n",
      "Kata: ?, Kata kunci: Tugas Akhir, skor: 0\n",
      "Kata: kapan, Kata kunci: TA, skor: 29\n",
      "Kata: KP, Kata kunci: TA, skor: 0\n",
      "Kata: ?, Kata kunci: TA, skor: 0\n",
      "Kata: kapan, Kata kunci: Kerja Praktek, skor: 44\n",
      "Kata: KP, Kata kunci: Kerja Praktek, skor: 27\n",
      "Kata: ?, Kata kunci: Kerja Praktek, skor: 0\n",
      "Kata: kapan, Kata kunci: KP, skor: 57\n",
      "Kata: KP, Kata kunci: KP, skor: 100\n"
     ]
    },
    {
     "name": "stderr",
     "output_type": "stream",
     "text": [
      "127.0.0.1 - - [26/Dec/2023 21:25:39] \"POST /jawab_pertanyaan HTTP/1.1\" 200 -\n",
      "127.0.0.1 - - [26/Dec/2023 21:25:40] \"POST /jawab_pertanyaan HTTP/1.1\" 200 -\n",
      "127.0.0.1 - - [26/Dec/2023 21:25:40] \"POST /jawab_pertanyaan HTTP/1.1\" 200 -\n",
      "127.0.0.1 - - [26/Dec/2023 21:25:40] \"POST /jawab_pertanyaan HTTP/1.1\" 200 -\n",
      "127.0.0.1 - - [26/Dec/2023 21:32:21] \"POST /jawab_pertanyaan HTTP/1.1\" 200 -\n"
     ]
    },
    {
     "name": "stdout",
     "output_type": "stream",
     "text": [
      "Kata: kapan, Kata kunci: Skripsi, skor: 33\n",
      "Kata: KP, Kata kunci: Skripsi, skor: 44\n",
      "Kata: ?, Kata kunci: Skripsi, skor: 0\n",
      "Kata: kapan, Kata kunci: Tugas Akhir, skor: 12\n",
      "Kata: KP, Kata kunci: Tugas Akhir, skor: 15\n",
      "Kata: ?, Kata kunci: Tugas Akhir, skor: 0\n",
      "Kata: kapan, Kata kunci: TA, skor: 29\n",
      "Kata: KP, Kata kunci: TA, skor: 0\n",
      "Kata: ?, Kata kunci: TA, skor: 0\n",
      "Kata: kapan, Kata kunci: Kerja Praktek, skor: 44\n",
      "Kata: KP, Kata kunci: Kerja Praktek, skor: 27\n",
      "Kata: ?, Kata kunci: Kerja Praktek, skor: 0\n",
      "Kata: kapan, Kata kunci: KP, skor: 57\n",
      "Kata: KP, Kata kunci: KP, skor: 100\n"
     ]
    },
    {
     "name": "stderr",
     "output_type": "stream",
     "text": [
      "127.0.0.1 - - [26/Dec/2023 21:32:25] \"POST /jawab_pertanyaan HTTP/1.1\" 200 -\n"
     ]
    },
    {
     "name": "stdout",
     "output_type": "stream",
     "text": [
      "Kata: kapan, Kata kunci: Skripsi, skor: 33\n",
      "Kata: KP, Kata kunci: Skripsi, skor: 44\n",
      "Kata: ?, Kata kunci: Skripsi, skor: 0\n",
      "Kata: kapan, Kata kunci: Tugas Akhir, skor: 12\n",
      "Kata: KP, Kata kunci: Tugas Akhir, skor: 15\n",
      "Kata: ?, Kata kunci: Tugas Akhir, skor: 0\n",
      "Kata: kapan, Kata kunci: TA, skor: 29\n",
      "Kata: KP, Kata kunci: TA, skor: 0\n",
      "Kata: ?, Kata kunci: TA, skor: 0\n",
      "Kata: kapan, Kata kunci: Kerja Praktek, skor: 44\n",
      "Kata: KP, Kata kunci: Kerja Praktek, skor: 27\n",
      "Kata: ?, Kata kunci: Kerja Praktek, skor: 0\n",
      "Kata: kapan, Kata kunci: KP, skor: 57\n",
      "Kata: KP, Kata kunci: KP, skor: 100\n"
     ]
    },
    {
     "name": "stderr",
     "output_type": "stream",
     "text": [
      "127.0.0.1 - - [26/Dec/2023 21:32:30] \"POST /jawab_pertanyaan HTTP/1.1\" 200 -\n"
     ]
    },
    {
     "name": "stdout",
     "output_type": "stream",
     "text": [
      "Kata: kapan, Kata kunci: Skripsi, skor: 33\n",
      "Kata: KP, Kata kunci: Skripsi, skor: 44\n",
      "Kata: ?, Kata kunci: Skripsi, skor: 0\n",
      "Kata: kapan, Kata kunci: Tugas Akhir, skor: 12\n",
      "Kata: KP, Kata kunci: Tugas Akhir, skor: 15\n",
      "Kata: ?, Kata kunci: Tugas Akhir, skor: 0\n",
      "Kata: kapan, Kata kunci: TA, skor: 29\n",
      "Kata: KP, Kata kunci: TA, skor: 0\n",
      "Kata: ?, Kata kunci: TA, skor: 0\n",
      "Kata: kapan, Kata kunci: Kerja Praktek, skor: 44\n",
      "Kata: KP, Kata kunci: Kerja Praktek, skor: 27\n",
      "Kata: ?, Kata kunci: Kerja Praktek, skor: 0\n",
      "Kata: kapan, Kata kunci: KP, skor: 57\n",
      "Kata: KP, Kata kunci: KP, skor: 100\n"
     ]
    },
    {
     "name": "stderr",
     "output_type": "stream",
     "text": [
      "127.0.0.1 - - [26/Dec/2023 21:32:33] \"POST /jawab_pertanyaan HTTP/1.1\" 200 -\n"
     ]
    },
    {
     "name": "stdout",
     "output_type": "stream",
     "text": [
      "Kata: kapan, Kata kunci: Skripsi, skor: 33\n",
      "Kata: KP, Kata kunci: Skripsi, skor: 44\n",
      "Kata: ?, Kata kunci: Skripsi, skor: 0\n",
      "Kata: kapan, Kata kunci: Tugas Akhir, skor: 12\n",
      "Kata: KP, Kata kunci: Tugas Akhir, skor: 15\n",
      "Kata: ?, Kata kunci: Tugas Akhir, skor: 0\n",
      "Kata: kapan, Kata kunci: TA, skor: 29\n",
      "Kata: KP, Kata kunci: TA, skor: 0\n",
      "Kata: ?, Kata kunci: TA, skor: 0\n",
      "Kata: kapan, Kata kunci: Kerja Praktek, skor: 44\n",
      "Kata: KP, Kata kunci: Kerja Praktek, skor: 27\n",
      "Kata: ?, Kata kunci: Kerja Praktek, skor: 0\n",
      "Kata: kapan, Kata kunci: KP, skor: 57\n",
      "Kata: KP, Kata kunci: KP, skor: 100\n"
     ]
    },
    {
     "name": "stderr",
     "output_type": "stream",
     "text": [
      "127.0.0.1 - - [26/Dec/2023 21:47:46] \"POST /jawab_pertanyaan HTTP/1.1\" 200 -\n",
      "127.0.0.1 - - [26/Dec/2023 21:48:57] \"POST /jawab_pertanyaan HTTP/1.1\" 200 -\n",
      "127.0.0.1 - - [26/Dec/2023 21:48:57] \"POST /jawab_pertanyaan HTTP/1.1\" 200 -\n",
      "127.0.0.1 - - [26/Dec/2023 21:51:46] \"POST /jawab_pertanyaan HTTP/1.1\" 200 -\n",
      "127.0.0.1 - - [26/Dec/2023 21:51:46] \"POST /jawab_pertanyaan HTTP/1.1\" 200 -\n",
      "127.0.0.1 - - [26/Dec/2023 21:51:47] \"POST /jawab_pertanyaan HTTP/1.1\" 200 -\n",
      "127.0.0.1 - - [26/Dec/2023 21:52:47] \"POST /jawab_pertanyaan HTTP/1.1\" 200 -\n"
     ]
    },
    {
     "name": "stdout",
     "output_type": "stream",
     "text": [
      "Kata: kapan, Kata kunci: Skripsi, skor: 33\n",
      "Kata: KP, Kata kunci: Skripsi, skor: 44\n",
      "Kata: ?, Kata kunci: Skripsi, skor: 0\n",
      "Kata: kapan, Kata kunci: Tugas Akhir, skor: 12\n",
      "Kata: KP, Kata kunci: Tugas Akhir, skor: 15\n",
      "Kata: ?, Kata kunci: Tugas Akhir, skor: 0\n",
      "Kata: kapan, Kata kunci: TA, skor: 29\n",
      "Kata: KP, Kata kunci: TA, skor: 0\n",
      "Kata: ?, Kata kunci: TA, skor: 0\n",
      "Kata: kapan, Kata kunci: Kerja Praktek, skor: 44\n",
      "Kata: KP, Kata kunci: Kerja Praktek, skor: 27\n",
      "Kata: ?, Kata kunci: Kerja Praktek, skor: 0\n",
      "Kata: kapan, Kata kunci: KP, skor: 57\n",
      "Kata: KP, Kata kunci: KP, skor: 100\n"
     ]
    },
    {
     "name": "stderr",
     "output_type": "stream",
     "text": [
      "127.0.0.1 - - [26/Dec/2023 21:53:16] \"POST /jawab_pertanyaan HTTP/1.1\" 200 -\n"
     ]
    },
    {
     "name": "stdout",
     "output_type": "stream",
     "text": [
      "Kata: tinggi, Kata kunci: Skripsi, skor: 31\n",
      "Kata: gunung, Kata kunci: Skripsi, skor: 0\n",
      "Kata: slamet, Kata kunci: Skripsi, skor: 15\n",
      "Kata: tinggi, Kata kunci: Tugas Akhir, skor: 24\n",
      "Kata: gunung, Kata kunci: Tugas Akhir, skor: 12\n",
      "Kata: slamet, Kata kunci: Tugas Akhir, skor: 24\n",
      "Kata: tinggi, Kata kunci: TA, skor: 25\n",
      "Kata: gunung, Kata kunci: TA, skor: 0\n",
      "Kata: slamet, Kata kunci: TA, skor: 25\n",
      "Kata: tinggi, Kata kunci: Kerja Praktek, skor: 11\n",
      "Kata: gunung, Kata kunci: Kerja Praktek, skor: 0\n",
      "Kata: slamet, Kata kunci: Kerja Praktek, skor: 21\n",
      "Kata: tinggi, Kata kunci: KP, skor: 0\n",
      "Kata: gunung, Kata kunci: KP, skor: 0\n",
      "Kata: slamet, Kata kunci: KP, skor: 0\n",
      "Kata: tinggi, Kata kunci: Magang, skor: 33\n",
      "Kata: gunung, Kata kunci: Magang, skor: 50\n",
      "Kata: slamet, Kata kunci: Magang, skor: 17\n"
     ]
    },
    {
     "name": "stderr",
     "output_type": "stream",
     "text": [
      "127.0.0.1 - - [26/Dec/2023 21:53:59] \"POST /jawab_pertanyaan HTTP/1.1\" 200 -\n",
      "127.0.0.1 - - [26/Dec/2023 21:53:59] \"POST /jawab_pertanyaan HTTP/1.1\" 200 -\n",
      "127.0.0.1 - - [26/Dec/2023 21:53:59] \"POST /jawab_pertanyaan HTTP/1.1\" 200 -\n",
      "127.0.0.1 - - [26/Dec/2023 21:54:00] \"POST /jawab_pertanyaan HTTP/1.1\" 200 -\n",
      "127.0.0.1 - - [26/Dec/2023 21:54:00] \"POST /jawab_pertanyaan HTTP/1.1\" 200 -\n",
      "127.0.0.1 - - [26/Dec/2023 21:54:33] \"POST /jawab_pertanyaan HTTP/1.1\" 200 -\n",
      "127.0.0.1 - - [26/Dec/2023 21:54:33] \"POST /jawab_pertanyaan HTTP/1.1\" 200 -\n",
      "127.0.0.1 - - [26/Dec/2023 21:54:33] \"POST /jawab_pertanyaan HTTP/1.1\" 200 -\n",
      "127.0.0.1 - - [26/Dec/2023 21:54:34] \"POST /jawab_pertanyaan HTTP/1.1\" 200 -\n",
      "127.0.0.1 - - [26/Dec/2023 21:54:34] \"POST /jawab_pertanyaan HTTP/1.1\" 200 -\n",
      "127.0.0.1 - - [26/Dec/2023 21:54:34] \"POST /jawab_pertanyaan HTTP/1.1\" 200 -\n",
      "127.0.0.1 - - [26/Dec/2023 21:54:35] \"POST /jawab_pertanyaan HTTP/1.1\" 200 -\n",
      "127.0.0.1 - - [26/Dec/2023 21:54:35] \"POST /jawab_pertanyaan HTTP/1.1\" 200 -\n",
      "127.0.0.1 - - [26/Dec/2023 21:54:35] \"POST /jawab_pertanyaan HTTP/1.1\" 200 -\n",
      "127.0.0.1 - - [26/Dec/2023 21:54:35] \"POST /jawab_pertanyaan HTTP/1.1\" 200 -\n",
      "127.0.0.1 - - [26/Dec/2023 21:54:36] \"POST /jawab_pertanyaan HTTP/1.1\" 200 -\n",
      "127.0.0.1 - - [26/Dec/2023 22:01:26] \"POST /jawab_pertanyaan HTTP/1.1\" 200 -\n"
     ]
    },
    {
     "name": "stdout",
     "output_type": "stream",
     "text": [
      "Kata: kapan, Kata kunci: Skripsi, skor: 33\n",
      "Kata: KP, Kata kunci: Skripsi, skor: 44\n",
      "Kata: ?, Kata kunci: Skripsi, skor: 0\n",
      "Kata: kapan, Kata kunci: Tugas Akhir, skor: 12\n",
      "Kata: KP, Kata kunci: Tugas Akhir, skor: 15\n",
      "Kata: ?, Kata kunci: Tugas Akhir, skor: 0\n",
      "Kata: kapan, Kata kunci: TA, skor: 29\n",
      "Kata: KP, Kata kunci: TA, skor: 0\n",
      "Kata: ?, Kata kunci: TA, skor: 0\n",
      "Kata: kapan, Kata kunci: Kerja Praktek, skor: 44\n",
      "Kata: KP, Kata kunci: Kerja Praktek, skor: 27\n",
      "Kata: ?, Kata kunci: Kerja Praktek, skor: 0\n",
      "Kata: kapan, Kata kunci: KP, skor: 57\n",
      "Kata: KP, Kata kunci: KP, skor: 100\n"
     ]
    },
    {
     "name": "stderr",
     "output_type": "stream",
     "text": [
      "127.0.0.1 - - [26/Dec/2023 22:02:01] \"POST /jawab_pertanyaan HTTP/1.1\" 200 -\n"
     ]
    },
    {
     "name": "stdout",
     "output_type": "stream",
     "text": [
      "Kata: kapan, Kata kunci: Skripsi, skor: 33\n",
      "Kata: KP, Kata kunci: Skripsi, skor: 44\n",
      "Kata: ?, Kata kunci: Skripsi, skor: 0\n",
      "Kata: kapan, Kata kunci: Tugas Akhir, skor: 12\n",
      "Kata: KP, Kata kunci: Tugas Akhir, skor: 15\n",
      "Kata: ?, Kata kunci: Tugas Akhir, skor: 0\n",
      "Kata: kapan, Kata kunci: TA, skor: 29\n",
      "Kata: KP, Kata kunci: TA, skor: 0\n",
      "Kata: ?, Kata kunci: TA, skor: 0\n",
      "Kata: kapan, Kata kunci: Kerja Praktek, skor: 44\n",
      "Kata: KP, Kata kunci: Kerja Praktek, skor: 27\n",
      "Kata: ?, Kata kunci: Kerja Praktek, skor: 0\n",
      "Kata: kapan, Kata kunci: KP, skor: 57\n",
      "Kata: KP, Kata kunci: KP, skor: 100\n"
     ]
    },
    {
     "name": "stderr",
     "output_type": "stream",
     "text": [
      "127.0.0.1 - - [26/Dec/2023 22:02:05] \"POST /jawab_pertanyaan HTTP/1.1\" 200 -\n"
     ]
    },
    {
     "name": "stdout",
     "output_type": "stream",
     "text": [
      "Kata: kapan, Kata kunci: Skripsi, skor: 33\n",
      "Kata: KP, Kata kunci: Skripsi, skor: 44\n",
      "Kata: ?, Kata kunci: Skripsi, skor: 0\n",
      "Kata: kapan, Kata kunci: Tugas Akhir, skor: 12\n",
      "Kata: KP, Kata kunci: Tugas Akhir, skor: 15\n",
      "Kata: ?, Kata kunci: Tugas Akhir, skor: 0\n",
      "Kata: kapan, Kata kunci: TA, skor: 29\n",
      "Kata: KP, Kata kunci: TA, skor: 0\n",
      "Kata: ?, Kata kunci: TA, skor: 0\n",
      "Kata: kapan, Kata kunci: Kerja Praktek, skor: 44\n",
      "Kata: KP, Kata kunci: Kerja Praktek, skor: 27\n",
      "Kata: ?, Kata kunci: Kerja Praktek, skor: 0\n",
      "Kata: kapan, Kata kunci: KP, skor: 57\n",
      "Kata: KP, Kata kunci: KP, skor: 100\n"
     ]
    },
    {
     "name": "stderr",
     "output_type": "stream",
     "text": [
      "127.0.0.1 - - [26/Dec/2023 22:02:07] \"POST /jawab_pertanyaan HTTP/1.1\" 200 -\n"
     ]
    },
    {
     "name": "stdout",
     "output_type": "stream",
     "text": [
      "Kata: kapan, Kata kunci: Skripsi, skor: 33\n",
      "Kata: KP, Kata kunci: Skripsi, skor: 44\n",
      "Kata: ?, Kata kunci: Skripsi, skor: 0\n",
      "Kata: kapan, Kata kunci: Tugas Akhir, skor: 12\n",
      "Kata: KP, Kata kunci: Tugas Akhir, skor: 15\n",
      "Kata: ?, Kata kunci: Tugas Akhir, skor: 0\n",
      "Kata: kapan, Kata kunci: TA, skor: 29\n",
      "Kata: KP, Kata kunci: TA, skor: 0\n",
      "Kata: ?, Kata kunci: TA, skor: 0\n",
      "Kata: kapan, Kata kunci: Kerja Praktek, skor: 44\n",
      "Kata: KP, Kata kunci: Kerja Praktek, skor: 27\n",
      "Kata: ?, Kata kunci: Kerja Praktek, skor: 0\n",
      "Kata: kapan, Kata kunci: KP, skor: 57\n",
      "Kata: KP, Kata kunci: KP, skor: 100\n"
     ]
    },
    {
     "name": "stderr",
     "output_type": "stream",
     "text": [
      "127.0.0.1 - - [26/Dec/2023 22:02:11] \"POST /jawab_pertanyaan HTTP/1.1\" 200 -\n"
     ]
    },
    {
     "name": "stdout",
     "output_type": "stream",
     "text": [
      "Kata: kapan, Kata kunci: Skripsi, skor: 33\n",
      "Kata: KP, Kata kunci: Skripsi, skor: 44\n",
      "Kata: ?, Kata kunci: Skripsi, skor: 0\n",
      "Kata: kapan, Kata kunci: Tugas Akhir, skor: 12\n",
      "Kata: KP, Kata kunci: Tugas Akhir, skor: 15\n",
      "Kata: ?, Kata kunci: Tugas Akhir, skor: 0\n",
      "Kata: kapan, Kata kunci: TA, skor: 29\n",
      "Kata: KP, Kata kunci: TA, skor: 0\n",
      "Kata: ?, Kata kunci: TA, skor: 0\n",
      "Kata: kapan, Kata kunci: Kerja Praktek, skor: 44\n",
      "Kata: KP, Kata kunci: Kerja Praktek, skor: 27\n",
      "Kata: ?, Kata kunci: Kerja Praktek, skor: 0\n",
      "Kata: kapan, Kata kunci: KP, skor: 57\n",
      "Kata: KP, Kata kunci: KP, skor: 100\n"
     ]
    },
    {
     "name": "stderr",
     "output_type": "stream",
     "text": [
      "127.0.0.1 - - [26/Dec/2023 22:02:14] \"POST /jawab_pertanyaan HTTP/1.1\" 200 -\n"
     ]
    },
    {
     "name": "stdout",
     "output_type": "stream",
     "text": [
      "Kata: kapan, Kata kunci: Skripsi, skor: 33\n",
      "Kata: KP, Kata kunci: Skripsi, skor: 44\n",
      "Kata: ?, Kata kunci: Skripsi, skor: 0\n",
      "Kata: kapan, Kata kunci: Tugas Akhir, skor: 12\n",
      "Kata: KP, Kata kunci: Tugas Akhir, skor: 15\n",
      "Kata: ?, Kata kunci: Tugas Akhir, skor: 0\n",
      "Kata: kapan, Kata kunci: TA, skor: 29\n",
      "Kata: KP, Kata kunci: TA, skor: 0\n",
      "Kata: ?, Kata kunci: TA, skor: 0\n",
      "Kata: kapan, Kata kunci: Kerja Praktek, skor: 44\n",
      "Kata: KP, Kata kunci: Kerja Praktek, skor: 27\n",
      "Kata: ?, Kata kunci: Kerja Praktek, skor: 0\n",
      "Kata: kapan, Kata kunci: KP, skor: 57\n",
      "Kata: KP, Kata kunci: KP, skor: 100\n"
     ]
    },
    {
     "name": "stderr",
     "output_type": "stream",
     "text": [
      "127.0.0.1 - - [26/Dec/2023 22:02:26] \"POST /jawab_pertanyaan HTTP/1.1\" 200 -\n"
     ]
    },
    {
     "name": "stdout",
     "output_type": "stream",
     "text": [
      "Kata: kapan, Kata kunci: Skripsi, skor: 33\n",
      "Kata: KP, Kata kunci: Skripsi, skor: 44\n",
      "Kata: ?, Kata kunci: Skripsi, skor: 0\n",
      "Kata: kapan, Kata kunci: Tugas Akhir, skor: 12\n",
      "Kata: KP, Kata kunci: Tugas Akhir, skor: 15\n",
      "Kata: ?, Kata kunci: Tugas Akhir, skor: 0\n",
      "Kata: kapan, Kata kunci: TA, skor: 29\n",
      "Kata: KP, Kata kunci: TA, skor: 0\n",
      "Kata: ?, Kata kunci: TA, skor: 0\n",
      "Kata: kapan, Kata kunci: Kerja Praktek, skor: 44\n",
      "Kata: KP, Kata kunci: Kerja Praktek, skor: 27\n",
      "Kata: ?, Kata kunci: Kerja Praktek, skor: 0\n",
      "Kata: kapan, Kata kunci: KP, skor: 57\n",
      "Kata: KP, Kata kunci: KP, skor: 100\n"
     ]
    },
    {
     "name": "stderr",
     "output_type": "stream",
     "text": [
      "127.0.0.1 - - [26/Dec/2023 22:05:30] \"POST /jawab_pertanyaan HTTP/1.1\" 200 -\n"
     ]
    },
    {
     "name": "stdout",
     "output_type": "stream",
     "text": [
      "Kata: kapan, Kata kunci: Skripsi, skor: 33\n",
      "Kata: KP, Kata kunci: Skripsi, skor: 44\n",
      "Kata: ?, Kata kunci: Skripsi, skor: 0\n",
      "Kata: kapan, Kata kunci: Tugas Akhir, skor: 12\n",
      "Kata: KP, Kata kunci: Tugas Akhir, skor: 15\n",
      "Kata: ?, Kata kunci: Tugas Akhir, skor: 0\n",
      "Kata: kapan, Kata kunci: TA, skor: 29\n",
      "Kata: KP, Kata kunci: TA, skor: 0\n",
      "Kata: ?, Kata kunci: TA, skor: 0\n",
      "Kata: kapan, Kata kunci: Kerja Praktek, skor: 44\n",
      "Kata: KP, Kata kunci: Kerja Praktek, skor: 27\n",
      "Kata: ?, Kata kunci: Kerja Praktek, skor: 0\n",
      "Kata: kapan, Kata kunci: KP, skor: 57\n",
      "Kata: KP, Kata kunci: KP, skor: 100\n"
     ]
    },
    {
     "name": "stderr",
     "output_type": "stream",
     "text": [
      "127.0.0.1 - - [26/Dec/2023 22:05:39] \"POST /jawab_pertanyaan HTTP/1.1\" 200 -\n"
     ]
    },
    {
     "name": "stdout",
     "output_type": "stream",
     "text": [
      "Kata: dddddddddddddddddddddddddddddddddddddddddddddddddddddddddddddddddddddddddddddddddddddddddddddddddddddddddddddddddddddddddddddddddddddddddddddddddddddddddd, Kata kunci: Skripsi, skor: 0\n",
      "Kata: dddddddddddddddddddddddddddddddddddddddddddddddddddddddddddddddddddddddddddddddddddddddddddddddddddddddddddddddddddddddddddddddddddddddddddddddddddddddddd, Kata kunci: Tugas Akhir, skor: 0\n",
      "Kata: dddddddddddddddddddddddddddddddddddddddddddddddddddddddddddddddddddddddddddddddddddddddddddddddddddddddddddddddddddddddddddddddddddddddddddddddddddddddddd, Kata kunci: TA, skor: 0\n",
      "Kata: dddddddddddddddddddddddddddddddddddddddddddddddddddddddddddddddddddddddddddddddddddddddddddddddddddddddddddddddddddddddddddddddddddddddddddddddddddddddddd, Kata kunci: Kerja Praktek, skor: 0\n",
      "Kata: dddddddddddddddddddddddddddddddddddddddddddddddddddddddddddddddddddddddddddddddddddddddddddddddddddddddddddddddddddddddddddddddddddddddddddddddddddddddddd, Kata kunci: KP, skor: 0\n",
      "Kata: dddddddddddddddddddddddddddddddddddddddddddddddddddddddddddddddddddddddddddddddddddddddddddddddddddddddddddddddddddddddddddddddddddddddddddddddddddddddddd, Kata kunci: Magang, skor: 0\n"
     ]
    },
    {
     "name": "stderr",
     "output_type": "stream",
     "text": [
      "127.0.0.1 - - [26/Dec/2023 22:05:50] \"POST /jawab_pertanyaan HTTP/1.1\" 200 -\n"
     ]
    },
    {
     "name": "stdout",
     "output_type": "stream",
     "text": [
      "Kata: d, Kata kunci: Skripsi, skor: 0\n",
      "Kata: d, Kata kunci: Tugas Akhir, skor: 0\n",
      "Kata: d, Kata kunci: TA, skor: 0\n",
      "Kata: d, Kata kunci: Kerja Praktek, skor: 0\n",
      "Kata: d, Kata kunci: KP, skor: 0\n",
      "Kata: d, Kata kunci: Magang, skor: 0\n"
     ]
    },
    {
     "name": "stderr",
     "output_type": "stream",
     "text": [
      "127.0.0.1 - - [26/Dec/2023 22:05:52] \"POST /jawab_pertanyaan HTTP/1.1\" 200 -\n"
     ]
    },
    {
     "name": "stdout",
     "output_type": "stream",
     "text": [
      "Kata: d, Kata kunci: Skripsi, skor: 0\n",
      "Kata: d, Kata kunci: Tugas Akhir, skor: 0\n",
      "Kata: d, Kata kunci: TA, skor: 0\n",
      "Kata: d, Kata kunci: Kerja Praktek, skor: 0\n",
      "Kata: d, Kata kunci: KP, skor: 0\n",
      "Kata: d, Kata kunci: Magang, skor: 0\n"
     ]
    },
    {
     "name": "stderr",
     "output_type": "stream",
     "text": [
      "127.0.0.1 - - [26/Dec/2023 22:05:53] \"POST /jawab_pertanyaan HTTP/1.1\" 200 -\n"
     ]
    },
    {
     "name": "stdout",
     "output_type": "stream",
     "text": [
      "Kata: d, Kata kunci: Skripsi, skor: 0\n",
      "Kata: d, Kata kunci: Tugas Akhir, skor: 0\n",
      "Kata: d, Kata kunci: TA, skor: 0\n",
      "Kata: d, Kata kunci: Kerja Praktek, skor: 0\n",
      "Kata: d, Kata kunci: KP, skor: 0\n",
      "Kata: d, Kata kunci: Magang, skor: 0\n"
     ]
    }
   ],
   "source": [
    "app.run()"
   ]
  }
 ],
 "metadata": {
  "kernelspec": {
   "display_name": "Python 3",
   "language": "python",
   "name": "python3"
  },
  "language_info": {
   "codemirror_mode": {
    "name": "ipython",
    "version": 3
   },
   "file_extension": ".py",
   "mimetype": "text/x-python",
   "name": "python",
   "nbconvert_exporter": "python",
   "pygments_lexer": "ipython3",
   "version": "3.11.3"
  }
 },
 "nbformat": 4,
 "nbformat_minor": 2
}
